{
 "cells": [
  {
   "cell_type": "markdown",
   "metadata": {},
   "source": [
    "Machine Learning - Autumn assessment"
   ]
  },
  {
   "cell_type": "markdown",
   "metadata": {},
   "source": [
    "Tasks"
   ]
  },
  {
   "cell_type": "markdown",
   "metadata": {},
   "source": [
    "1. Download the abalone.csv file and save to your repository. "
   ]
  },
  {
   "cell_type": "markdown",
   "metadata": {},
   "source": [
    "I downloaded the file from the link provided & with my CMD commited the changes to me repo to Github Repo. "
   ]
  },
  {
   "cell_type": "markdown",
   "metadata": {},
   "source": [
    "2. Use the read_csv() function from the pandas library to load the data into your notebook."
   ]
  },
  {
   "cell_type": "markdown",
   "metadata": {},
   "source": [
    "Firstly we need to add in all of our libaries in order to complete all the requests in tasks 1 through 5. Brief discription of what each libary does below."
   ]
  },
  {
   "cell_type": "markdown",
   "metadata": {},
   "source": [
    "Pandas: Is a python package for data manipulation and analysis in Python, it's very good for working with with \"relational\" or \"labeled\" data, this makes it useful as the Abalone dataset is a labeled dataset. Also most importantly it allows us to actually load in the Abalone CSV.\n",
    "https://pypi.org/project/pandas/"
   ]
  },
  {
   "cell_type": "markdown",
   "metadata": {},
   "source": [
    "NumPy: Is a libary which we will mainly use for for point 4 of our tasks which will involve some high level mathematical functions. Numpy is also important as it will help us dealing with multi dimensional arrays within the Abalone dataset\n",
    "https://www.codecademy.com/article/introduction-to-numpy-and-pandas\n",
    "https://www.kaggle.com/code/chats351/introduction-to-numpy-pandas-and-matplotlib\n"
   ]
  },
  {
   "cell_type": "markdown",
   "metadata": {},
   "source": [
    "Seaborn: Is a phython library used for data visualisation which we will be using in point 5 of our tasks. It is based on the the Matplotlib libarary and makes the visualization  aspect of our plots and graphs. \n",
    "https://seaborn.pydata.org/\n",
    "https://www.geeksforgeeks.org/introduction-to-seaborn-python/"
   ]
  },
  {
   "cell_type": "markdown",
   "metadata": {},
   "source": [
    "Matplotlib: Is a library used for creating interative visualisations for our Abalone dataset, this libarary will be used mostly in point 5 of our tasks & integrates very nicely with Seaborn to create interactive and highqulaity visualisations.\n",
    "https://matplotlib.org/"
   ]
  },
  {
   "cell_type": "code",
   "execution_count": 80,
   "metadata": {},
   "outputs": [],
   "source": [
    "# importing pandas & Numpy file\n",
    "import pandas as pd\n",
    "import numpy as np\n",
    "import seaborn as sns\n",
    "import matplotlib.pyplot as plt"
   ]
  },
  {
   "cell_type": "code",
   "execution_count": 81,
   "metadata": {},
   "outputs": [
    {
     "data": {
      "text/html": [
       "<div>\n",
       "<style scoped>\n",
       "    .dataframe tbody tr th:only-of-type {\n",
       "        vertical-align: middle;\n",
       "    }\n",
       "\n",
       "    .dataframe tbody tr th {\n",
       "        vertical-align: top;\n",
       "    }\n",
       "\n",
       "    .dataframe thead th {\n",
       "        text-align: right;\n",
       "    }\n",
       "</style>\n",
       "<table border=\"1\" class=\"dataframe\">\n",
       "  <thead>\n",
       "    <tr style=\"text-align: right;\">\n",
       "      <th></th>\n",
       "      <th>sex</th>\n",
       "      <th>length</th>\n",
       "      <th>diameter</th>\n",
       "      <th>height</th>\n",
       "      <th>whole_weight</th>\n",
       "      <th>shucked_weight</th>\n",
       "      <th>viscera_weight</th>\n",
       "      <th>shell_weight</th>\n",
       "      <th>rings</th>\n",
       "    </tr>\n",
       "  </thead>\n",
       "  <tbody>\n",
       "    <tr>\n",
       "      <th>0</th>\n",
       "      <td>M</td>\n",
       "      <td>0.455</td>\n",
       "      <td>0.365</td>\n",
       "      <td>0.095</td>\n",
       "      <td>0.5140</td>\n",
       "      <td>0.2245</td>\n",
       "      <td>0.1010</td>\n",
       "      <td>0.150</td>\n",
       "      <td>15</td>\n",
       "    </tr>\n",
       "    <tr>\n",
       "      <th>1</th>\n",
       "      <td>M</td>\n",
       "      <td>0.350</td>\n",
       "      <td>0.265</td>\n",
       "      <td>0.090</td>\n",
       "      <td>0.2255</td>\n",
       "      <td>0.0995</td>\n",
       "      <td>0.0485</td>\n",
       "      <td>0.070</td>\n",
       "      <td>7</td>\n",
       "    </tr>\n",
       "    <tr>\n",
       "      <th>2</th>\n",
       "      <td>F</td>\n",
       "      <td>0.530</td>\n",
       "      <td>0.420</td>\n",
       "      <td>0.135</td>\n",
       "      <td>0.6770</td>\n",
       "      <td>0.2565</td>\n",
       "      <td>0.1415</td>\n",
       "      <td>0.210</td>\n",
       "      <td>9</td>\n",
       "    </tr>\n",
       "    <tr>\n",
       "      <th>3</th>\n",
       "      <td>M</td>\n",
       "      <td>0.440</td>\n",
       "      <td>0.365</td>\n",
       "      <td>0.125</td>\n",
       "      <td>0.5160</td>\n",
       "      <td>0.2155</td>\n",
       "      <td>0.1140</td>\n",
       "      <td>0.155</td>\n",
       "      <td>10</td>\n",
       "    </tr>\n",
       "    <tr>\n",
       "      <th>4</th>\n",
       "      <td>I</td>\n",
       "      <td>0.330</td>\n",
       "      <td>0.255</td>\n",
       "      <td>0.080</td>\n",
       "      <td>0.2050</td>\n",
       "      <td>0.0895</td>\n",
       "      <td>0.0395</td>\n",
       "      <td>0.055</td>\n",
       "      <td>7</td>\n",
       "    </tr>\n",
       "  </tbody>\n",
       "</table>\n",
       "</div>"
      ],
      "text/plain": [
       "  sex  length  diameter  height  whole_weight  shucked_weight  viscera_weight  \\\n",
       "0   M   0.455     0.365   0.095        0.5140          0.2245          0.1010   \n",
       "1   M   0.350     0.265   0.090        0.2255          0.0995          0.0485   \n",
       "2   F   0.530     0.420   0.135        0.6770          0.2565          0.1415   \n",
       "3   M   0.440     0.365   0.125        0.5160          0.2155          0.1140   \n",
       "4   I   0.330     0.255   0.080        0.2050          0.0895          0.0395   \n",
       "\n",
       "   shell_weight  rings  \n",
       "0         0.150     15  \n",
       "1         0.070      7  \n",
       "2         0.210      9  \n",
       "3         0.155     10  \n",
       "4         0.055      7  "
      ]
     },
     "execution_count": 81,
     "metadata": {},
     "output_type": "execute_result"
    }
   ],
   "source": [
    "# Load the data\n",
    "df = pd.read_csv('abalone.csv')\n",
    "\n",
    "# Display the first few rows so I know I have loaded correctly\n",
    "df.head()"
   ]
  },
  {
   "cell_type": "markdown",
   "metadata": {},
   "source": [
    "3. Within the notebook, discuss the classification of each variable in the dataset based on common variable types and measurement scales in mathematics, statistics, and Python"
   ]
  },
  {
   "cell_type": "markdown",
   "metadata": {},
   "source": [
    "Variable types are broken down into two categories. Categorical & Numeric. \n",
    "Categorical data is then broken into two sub types which are Nominal and Ordinal while for numerical we have Discrete and continous.\n",
    "First we will look at the Categorical variables, what they are & if present in the Abalone dataset. https://www150.statcan.gc.ca/n1/edu/power-pouvoir/ch8/5214817-eng.htm"
   ]
  },
  {
   "cell_type": "markdown",
   "metadata": {},
   "source": [
    "Categorical variables"
   ]
  },
  {
   "cell_type": "markdown",
   "metadata": {},
   "source": [
    "Are variables which have two or more categories that represents distinct categories or groups.\n",
    "A Binary question such as Yes/No is a categorical variable as a basic example. With Categorical variables there is no intrinsic ordering to the categories.\n",
    "Visually categorical data is best represented in bar charts & histograms for example. https://stats.oarc.ucla.edu/other/mult-pkg/whatstat/what-is-the-difference-between-categorical-ordinal-and-interval-variables/\n",
    "\n",
    "The two sub types of categorical data are Nominal Variables & Ordinal Variables"
   ]
  },
  {
   "cell_type": "markdown",
   "metadata": {},
   "source": [
    "Nominal Variables are when categories have no order or rank. For example gender (Male/Female) or hair color (Black/Brown/Blonde).\n",
    "In our Abalone dataset there is only one Nominal variable which is the sex column (Male/female/Infant) https://www.cuemath.com/data/nominal-variable/"
   ]
  },
  {
   "cell_type": "markdown",
   "metadata": {},
   "source": [
    "Ordinal Variables are categorical variables where by the categories do have a rank or order designated to them. For example frequency of exercise being Often,Sometimes,rarely & never. These values provide an order but we can't calculate the exact distance between rarely & sometimes. https://www.scribbr.com/statistics/ordinal-data/\n",
    "In our Abalone dataset there is no variable which falls under this category."
   ]
  },
  {
   "cell_type": "markdown",
   "metadata": {},
   "source": [
    "Numerical Variables"
   ]
  },
  {
   "cell_type": "markdown",
   "metadata": {},
   "source": [
    "Are a variable which has a value where you can describe a measurable quantity or numerical meaning. https://socratic.org/questions/what-is-a-numerical-variable-and-what-is-a-categorical-variable\n",
    "For example how many ML's in a cup of water would be a numerical variable. \n",
    "\n",
    "The two sub types of Numerical Variables are Continuous Variables & Discrete Variables:"
   ]
  },
  {
   "cell_type": "markdown",
   "metadata": {},
   "source": [
    "Continuous Variables are variables which can take any value within a range example being the cup of water again.\n",
    "A continuous variable takes on an infinite number of possible values within a given range. https://articles.outlier.org/discrete-vs-continuous-variables#section-what-is-a-continuous-variable\n",
    "\n",
    "In our Abalone dataset the following variables are Continous: Length, Diameter, Height, Whole Weight, Shucked Weight, Viscera Weight & Shell Weight."
   ]
  },
  {
   "cell_type": "markdown",
   "metadata": {},
   "source": [
    "Discrete Variable a variable that takes on distinct, countable values. For example the number of steps you take in a day is a discrete variable.\n",
    "https://articles.outlier.org/discrete-vs-continuous-variables#section-what-is-a-discrete-variable\n",
    "\n",
    "In Abalone the only discrete variable is the Ring variable, Abalones age is counted by the number of rings present hence it being a discrete variable.\n"
   ]
  },
  {
   "cell_type": "markdown",
   "metadata": {},
   "source": [
    "4. Select, demonstrate, and explain the most appropriate summary statistics to describe each variable."
   ]
  },
  {
   "cell_type": "code",
   "execution_count": 82,
   "metadata": {},
   "outputs": [
    {
     "name": "stdout",
     "output_type": "stream",
     "text": [
      "Frequency Counts for 'sex':\n",
      "M    1528\n",
      "I    1342\n",
      "F    1307\n",
      "Name: sex, dtype: int64\n",
      "\n",
      "Proportions for 'sex':\n",
      "M    0.365813\n",
      "I    0.321283\n",
      "F    0.312904\n",
      "Name: sex, dtype: float64\n"
     ]
    }
   ],
   "source": [
    "# Summary statistics for categorical variable 'Sex'\n",
    "sex_counts = df['sex'].value_counts() # count of the unique value for the 3 sex's\n",
    "sex_proportions = df['sex'].value_counts(normalize=True) # relative frequencey of each unique value for the 3 sex's\n",
    "\n",
    "print(\"Frequency Counts for 'sex':\") # Just printing text\n",
    "print(sex_counts) # displays the count of each Sex\n",
    "print(\"\\nProportions for 'sex':\") # Just printing text\n",
    "print(sex_proportions) # displays the count of each Sex"
   ]
  },
  {
   "cell_type": "markdown",
   "metadata": {},
   "source": [
    "With the above code we just show the basic count of each sex (Male, Female, Infant) & the proportions code gives us a view into the percentage distribution throughout the 3 different types of sexes. From this we can see the majority is Male & that male has the highest percentage distrubtion while Female is the lowest with the lowest percentage distrubtion in the dataset."
   ]
  },
  {
   "cell_type": "code",
   "execution_count": 83,
   "metadata": {},
   "outputs": [
    {
     "name": "stdout",
     "output_type": "stream",
     "text": [
      "Summary Statistics for Numerical Variables:\n",
      "            length     diameter       height  whole_weight  shucked_weight  \\\n",
      "count  4177.000000  4177.000000  4177.000000   4177.000000     4177.000000   \n",
      "mean      0.523992     0.407881     0.139516      0.828742        0.359367   \n",
      "std       0.120093     0.099240     0.041827      0.490389        0.221963   \n",
      "min       0.075000     0.055000     0.000000      0.002000        0.001000   \n",
      "25%       0.450000     0.350000     0.115000      0.441500        0.186000   \n",
      "50%       0.545000     0.425000     0.140000      0.799500        0.336000   \n",
      "75%       0.615000     0.480000     0.165000      1.153000        0.502000   \n",
      "max       0.815000     0.650000     1.130000      2.825500        1.488000   \n",
      "\n",
      "       viscera_weight  shell_weight        rings  \n",
      "count     4177.000000   4177.000000  4177.000000  \n",
      "mean         0.180594      0.238831     9.933684  \n",
      "std          0.109614      0.139203     3.224169  \n",
      "min          0.000500      0.001500     1.000000  \n",
      "25%          0.093500      0.130000     8.000000  \n",
      "50%          0.171000      0.234000     9.000000  \n",
      "75%          0.253000      0.329000    11.000000  \n",
      "max          0.760000      1.005000    29.000000  \n"
     ]
    }
   ],
   "source": [
    "# Summary statistics for numerical variables\n",
    "numerical_stats = df[['length', 'diameter', 'height', 'whole_weight', 'shucked_weight', 'viscera_weight', 'shell_weight', 'rings']].describe() # defining the numbercial stats & using the describe function\n",
    "\n",
    "\n",
    "print(\"Summary Statistics for Numerical Variables:\") # Printing text\n",
    "print(numerical_stats) #printing the output from numerical_stats\n"
   ]
  },
  {
   "cell_type": "markdown",
   "metadata": {},
   "source": [
    "We use describe() to give us a list/summary of statistics related to all of our numerical data. Lets look at each row.\n",
    "\n",
    "Count: this just gives us a count of the number of values within the dataset, same as when we looked at the counts of each sex the value is 4177 which is equal to all the sexes of Abalone sexes added together.\n",
    "\n",
    "Mean: Gives us an average value of length, diameter, height etc for all the Abalone in the dataset\n",
    "\n",
    "Std: This is standard deviation which is a measure of how dispersed the data is in relation to the mean. Low, or small, standard deviation indicates data are clustered tightly around the mean, and high, or large, standard deviation indicates data are more spread out. We can see from this there is a low std across the board for all numerical variables except for Rings.\n",
    "\n",
    "Min: This is just the smallest value for each column in the dataset, pretty self explantory.\n",
    "\n",
    "25%: 25th, first quartile, value below which 25% of the data falls.\n",
    "\n",
    "50%: 50th percentile, middle value of the data.\n",
    "\n",
    "75%: 75th, third quartile, value below which 75% of the data falls.\n",
    "\n",
    "max: This is just the smaximum value for each column in the dataset, pretty self explantory."
   ]
  },
  {
   "cell_type": "markdown",
   "metadata": {},
   "source": [
    "5. Select, demonstrate, and explain the most suitable plot(s) for each variable."
   ]
  }
 ],
 "metadata": {
  "language_info": {
   "name": "python"
  }
 },
 "nbformat": 4,
 "nbformat_minor": 2
}
